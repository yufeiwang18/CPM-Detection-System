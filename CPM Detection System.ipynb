{
 "cells": [
  {
   "cell_type": "markdown",
   "metadata": {},
   "source": [
    "# First Step\n",
    "\n",
    "#### Put daily_revenue.csv file to the same directory of this file and run all code until the second step"
   ]
  },
  {
   "cell_type": "code",
   "execution_count": 20,
   "metadata": {
    "collapsed": true
   },
   "outputs": [],
   "source": [
    "import pandas as pd\n",
    "from datetime import date, timedelta\n",
    "import matplotlib.pyplot as plt\n",
    "from datetime import datetime\n",
    "\n",
    "import statsmodels\n",
    "import numpy as np\n",
    "from sklearn.metrics import mean_squared_error\n",
    "from math import sqrt\n",
    "import statsmodels.api as sm\n",
    "from statsmodels.tsa.api import ExponentialSmoothing, SimpleExpSmoothing"
   ]
  },
  {
   "cell_type": "code",
   "execution_count": 21,
   "metadata": {
    "collapsed": true
   },
   "outputs": [],
   "source": [
    "daily_revenue=pd.read_csv(\"daily_revenue.csv\")"
   ]
  },
  {
   "cell_type": "code",
   "execution_count": 22,
   "metadata": {
    "collapsed": true,
    "scrolled": true
   },
   "outputs": [],
   "source": [
    "sitelist=daily_revenue[\"site\"].unique()\n",
    "\n",
    "d1 = date(2016, 7, 13)  # start date\n",
    "d2 = date(2017, 5, 31)  # end date\n",
    "delta = d2 - d1         # timedelta\n",
    "datelist=[(d1+timedelta(i)).strftime('%Y-%m-%d') for i in range(delta.days + 1)]\n",
    "\n",
    "#fulldate=pd.DataFrame({\"date\":datelist,\"site\":sitelist})"
   ]
  },
  {
   "cell_type": "code",
   "execution_count": 23,
   "metadata": {
    "collapsed": true,
    "scrolled": true
   },
   "outputs": [],
   "source": [
    "df1=pd.DataFrame({\"date\":datelist,\"key\":1})\n",
    "df2=pd.DataFrame({\"key\":1,\"site\":sitelist})\n",
    "fulldatedf=df1.merge(df2,on=\"key\")\n",
    "\n",
    "dr=fulldatedf[[\"date\",\"site\"]].merge(daily_revenue,on=[\"date\",\"site\"],how=\"left\")#.fillna({\"revenue\":0,pageviews:0})\n",
    "dr[\"CPM\"]=dr[\"revenue\"]/(dr[\"pageviews\"]/1000)\n",
    "dr[\"date\"]=[datetime.strptime(i, '%Y-%m-%d') for i in dr[\"date\"]]\n",
    "dr=dr.fillna(0)"
   ]
  },
  {
   "cell_type": "code",
   "execution_count": 24,
   "metadata": {
    "scrolled": true
   },
   "outputs": [
    {
     "data": {
      "image/png": "[encoded data removed]",
      "text/plain": [
       "<matplotlib.figure.Figure at 0x10c0ff518>"
      ]
     },
     "metadata": {},
     "output_type": "display_data"
    }
   ],
   "source": [
    "plot_wwside=dr[dr[\"site\"]==\"dotapicker\"][[\"date\",\"CPM\"]]\n",
    "plt.plot(plot_wwside[\"date\"],plot_wwside[\"CPM\"],'bo',label=\"Site: dotapicker\")\n",
    "\n",
    "plot_wwside=dr[dr[\"site\"]==\"tennisguru\"][[\"date\",\"CPM\"]]\n",
    "plt.plot(plot_wwside[\"date\"],plot_wwside[\"CPM\"],'ro',label=\"Site: tennisguru\")\n",
    "\n",
    "plot_wwside=dr[dr[\"site\"]==\"projectspurs\"][[\"date\",\"CPM\"]]\n",
    "plt.plot(plot_wwside[\"date\"],plot_wwside[\"CPM\"],'yo',label=\"Site: projectspurs\")\n",
    "plt.legend(loc='upper left')\n",
    "plt.title(\"CPM Performance\")\n",
    "plt.show()"
   ]
  },
  {
   "cell_type": "code",
   "execution_count": 27,
   "metadata": {
    "collapsed": true
   },
   "outputs": [],
   "source": [
    "def Naive_model(test,train):\n",
    "    dd= np.asarray(train.CPM)\n",
    "    y_hat = test.copy()\n",
    "    y_hat['naive'] = dd[len(dd)-1]\n",
    "#     plt.figure(figsize=(12,8))\n",
    "#     plt.plot(train.index, train['CPM'], label='Train')\n",
    "#     plt.plot(test.index,test['CPM'], label='Test')\n",
    "#     plt.plot(test.index,y_hat['naive'], label='Naive Forecast')\n",
    "#     plt.legend(loc='best')\n",
    "#     plt.title(\"Naive Forecast\")\n",
    "#     plt.show()\n",
    "\n",
    "    rms = sqrt(mean_squared_error(test.CPM, y_hat.naive))\n",
    "    print(\"RMSE of Naive Model: \",rms)\n",
    "\n",
    "    return rms\n",
    "    \n",
    "    \n",
    "def Naive_model_predict(test,train,CPM):\n",
    "    dd= np.asarray(train.CPM)\n",
    "    y_hat = test.copy()\n",
    "    y_hat['naive'] = dd[len(dd)-1]\n",
    "    \n",
    "    predict_value=y_hat.naive.tolist()[0]\n",
    "    \n",
    "    if (CPM>=0.5*predict_value)&(CPM<=1.5*predict_value):\n",
    "        return \"Prediction is \"+str(predict_value)+\", real data is \"+str(CPM)+\", normal\"\n",
    "    else:\n",
    "        return \"Prediction is \"+str(predict_value)+\", real data is \"+str(CPM)+\", ABNORMAL\"\n",
    "    "
   ]
  },
  {
   "cell_type": "code",
   "execution_count": 28,
   "metadata": {
    "collapsed": true
   },
   "outputs": [],
   "source": [
    "def MA_model(test,train):\n",
    "    y_hat_avg = test.copy()\n",
    "    y_hat_avg['moving_avg_forecast'] = train['CPM'].rolling(10).mean().iloc[-1]\n",
    "#     plt.figure(figsize=(16,8))\n",
    "#     plt.plot(train['CPM'], label='Train')\n",
    "#     plt.plot(test['CPM'], label='Test')\n",
    "#     plt.plot(y_hat_avg['moving_avg_forecast'], label='Moving Average Forecast')\n",
    "#     plt.legend(loc='best')\n",
    "#     plt.show()\n",
    "\n",
    "    rms = sqrt(mean_squared_error(test.CPM, y_hat_avg.moving_avg_forecast))\n",
    "    print(\"RMSE of MA Model: \",rms)\n",
    "    \n",
    "    return rms\n",
    "\n",
    "def MA_model_predict(test,train,CPM):\n",
    "    y_hat_avg = test.copy()\n",
    "    y_hat_avg['moving_avg_forecast'] = train['CPM'].rolling(10).mean().iloc[-1]\n",
    "    \n",
    "    predict_value=y_hat_avg.moving_avg_forecast.tolist()[0]\n",
    "    \n",
    "    if (CPM>=0.5*predict_value)&(CPM<=1.5*predict_value):\n",
    "        return \"Prediction is \"+str(predict_value)+\", real data is \"+str(CPM)+\", normal\"\n",
    "    else:\n",
    "        return \"Prediction is \"+str(predict_value)+\", real data is \"+str(CPM)+\", ABNORMAL\"\n",
    "    "
   ]
  },
  {
   "cell_type": "code",
   "execution_count": 29,
   "metadata": {
    "collapsed": true
   },
   "outputs": [],
   "source": [
    "def Holt_Winters_model(test,train):\n",
    "    y_hat_avg = test.copy()\n",
    "    fit1 = statsmodels.tsa.holtwinters.ExponentialSmoothing(np.asarray(train['CPM']) ,seasonal_periods=7 ,trend='add', seasonal='add').fit()\n",
    "    y_hat_avg['Holt_Winter'] = fit1.forecast(len(test))\n",
    "#     plt.figure(figsize=(16,8))\n",
    "#     plt.plot( train['CPM'], label='Train')\n",
    "#     plt.plot(test['CPM'], label='Test')\n",
    "#     plt.plot(y_hat_avg['Holt_Winter'], label='Holt_Winter')\n",
    "#     plt.legend(loc='best')\n",
    "#     plt.show()\n",
    "\n",
    "    rms = sqrt(mean_squared_error(test.CPM, y_hat_avg.Holt_Winter))\n",
    "    print(\"RMSE of Holt-Winters Model: \",rms)\n",
    "    \n",
    "    return rms\n",
    "\n",
    "def Holt_Winters_model_predict(test,train,CPM):\n",
    "    y_hat_avg = test.copy()\n",
    "    fit1 = statsmodels.tsa.holtwinters.ExponentialSmoothing(np.asarray(train['CPM']) ,seasonal_periods=7 ,trend='add', seasonal='add').fit()\n",
    "    y_hat_avg['Holt_Winter'] = fit1.forecast(len(test))\n",
    "    \n",
    "    predict_value=y_hat_avg.Holt_Winter.tolist()[0]\n",
    "    \n",
    "    if (CPM>=0.5*predict_value)&(CPM<=1.5*predict_value):\n",
    "        return \"Prediction is \"+str(predict_value)+\", real data is \"+str(CPM)+\", normal\"\n",
    "    else:\n",
    "        return \"Prediction is \"+str(predict_value)+\", real data is \"+str(CPM)+\", ABNORMAL\"\n",
    "    "
   ]
  },
  {
   "cell_type": "code",
   "execution_count": 30,
   "metadata": {
    "collapsed": true
   },
   "outputs": [],
   "source": [
    "def Arima_model(test,train):\n",
    "    y_hat_avg = test.copy()\n",
    "    fit1 = sm.tsa.statespace.SARIMAX(train.CPM, order=(0, 0, 0),seasonal_order=(0,2,1,7),enforce_invertibility=False).fit()\n",
    "    y_hat_avg['SARIMA'] = fit1.predict(start=\"2017-4-1\", end=\"2017-5-31\", dynamic=True)\n",
    "#     plt.figure(figsize=(16,8))\n",
    "#     plt.plot( train['CPM'], label='Train')\n",
    "#     plt.plot(test['CPM'], label='Test')\n",
    "#     plt.plot(y_hat_avg['SARIMA'], label='SARIMA')\n",
    "#     plt.legend(loc='best')\n",
    "#     plt.show()\n",
    "\n",
    "    rms = sqrt(mean_squared_error(test.CPM, y_hat_avg.SARIMA))\n",
    "    print(\"RMSE of Arima Model: \",rms)\n",
    "\n",
    "    return rms\n",
    "\n",
    "def Arima_model_predict(test,train,CPM):\n",
    "    y_hat_avg = test.copy()\n",
    "    fit1 = sm.tsa.statespace.SARIMAX(train.CPM, order=(0, 0, 0),seasonal_order=(0,2,1,7),enforce_invertibility=False).fit()\n",
    "    predict_date=test[\"date\"][0].strftime(\"%Y-%m-%d\")\n",
    "    y_hat_avg['SARIMA'] = fit1.predict(start=predict_date, end=predict_date, dynamic=True)\n",
    "    \n",
    "    predict_value=y_hat_avg.SARIMA.tolist()[0]\n",
    "    \n",
    "    if (CPM>=0.5*predict_value)&(CPM<=1.5*predict_value):\n",
    "        return \"Prediction is \"+str(predict_value)+\", real data is \"+str(CPM)+\", normal\"\n",
    "    else:\n",
    "        return \"Prediction is \"+str(predict_value)+\", real data is \"+str(CPM)+\", ABNORMAL\"\n",
    "    "
   ]
  },
  {
   "cell_type": "code",
   "execution_count": 31,
   "metadata": {
    "collapsed": true
   },
   "outputs": [],
   "source": [
    "def SES_model(test,train):\n",
    "\n",
    "    y_hat_avg = test.copy()\n",
    "    fit2 = SimpleExpSmoothing(np.asarray(train['CPM'])).fit(smoothing_level=1,optimized=False)\n",
    "    y_hat_avg['SES'] = fit2.forecast(len(test))\n",
    "#     plt.figure(figsize=(16,8))\n",
    "#     plt.plot(train['CPM'], label='Train')\n",
    "#     plt.plot(test['CPM'], label='Test')\n",
    "#     plt.plot(y_hat_avg['SES'], label='SES')\n",
    "#     plt.legend(loc='best')\n",
    "#     plt.show()\n",
    "\n",
    "    rms = sqrt(mean_squared_error(test.CPM, y_hat_avg.SES))\n",
    "    print(\"RMSE of Simple Exponential Smoothing Model: \",rms)\n",
    "\n",
    "    return rms\n",
    "\n",
    "def SES_model_predict(test,train,CPM):\n",
    "    y_hat_avg = test.copy()\n",
    "    fit2 = SimpleExpSmoothing(np.asarray(train['CPM'])).fit(smoothing_level=1,optimized=False)\n",
    "    y_hat_avg['SES'] = fit2.forecast(len(test))\n",
    "    \n",
    "    predict_value=y_hat_avg.SES.tolist()[0]\n",
    "    \n",
    "    if (CPM>=0.5*predict_value)&(CPM<=1.5*predict_value):\n",
    "        return \"Prediction is \"+str(predict_value)+\", real data is \"+str(CPM)+\", normal\"\n",
    "    else:\n",
    "        return \"Prediction is \"+str(predict_value)+\", real data is \"+str(CPM)+\", ABNORMAL\"\n",
    "    "
   ]
  },
  {
   "cell_type": "code",
   "execution_count": 32,
   "metadata": {
    "collapsed": true
   },
   "outputs": [],
   "source": [
    "def CPM_detect(sitename,date,CPM):\n",
    "    # train: start to 2017/03/31\n",
    "    # test: 2017/04/01 to 2017/05/31\n",
    "    site1=dr[dr[\"site\"]==sitename]\n",
    "    train=site1[:262]\n",
    "    test=site1[262:]\n",
    "\n",
    "    train.Timestamp = pd.to_datetime(train.date,format='%Y-%m-%d') \n",
    "    train.index = train.Timestamp \n",
    "\n",
    "    test.Timestamp = pd.to_datetime(test.date,format='%Y-%m-%d') \n",
    "    test.index = test.Timestamp \n",
    "    \n",
    "    RMSE={}\n",
    "    \n",
    "    RMSE[\"Naive_model\"]=Naive_model(test,train)\n",
    "    RMSE[\"MA_model\"]=MA_model(test,train)\n",
    "    RMSE[\"Holt_Winters_model\"]=Holt_Winters_model(test,train)\n",
    "    RMSE[\"Arima_model\"]=Arima_model(test,train)\n",
    "    RMSE[\"SES_model\"]=SES_model(test,train)\n",
    "    \n",
    "    RMSE=pd.DataFrame.from_dict(RMSE,orient='index').reset_index().rename(\n",
    "    columns={\"index\":\"Models\",0:\"RMSE\"})\n",
    "    best_model=RMSE.sort_values(by=\"RMSE\").loc[0,\"Models\"]\n",
    "    \n",
    "    print(\"The Best Model is \",best_model,\" with \", str(RMSE.sort_values(by=\"RMSE\").loc[0,\"RMSE\"]),\" RMSE\")\n",
    "    \n",
    "    site1=site1.reset_index(drop=True)\n",
    "    testdate_index=site1[site1[\"date\"]==date].index[0]\n",
    "    \n",
    "    train=site1[:testdate_index]\n",
    "    test=site1[testdate_index:testdate_index+1]\n",
    "\n",
    "    train.Timestamp = pd.to_datetime(train.date,format='%Y-%m-%d') \n",
    "    train.index = train.Timestamp \n",
    "\n",
    "    test.Timestamp = pd.to_datetime(test.date,format='%Y-%m-%d') \n",
    "    test.index = test.Timestamp \n",
    "\n",
    "    if best_model==\"Naive_model\":\n",
    "        return Naive_model_predict(test,train,CPM)\n",
    "    elif best_model==\"MA_model\":\n",
    "        return MA_model_predict(test,train,CPM)\n",
    "    elif best_model==\"Holt_Winters_model\":\n",
    "        return Holt_Winters_model_predict(test,train,CPM)\n",
    "    elif best_model==\"Arima_model\":\n",
    "        return Arima_model_predict(test,train,CPM)\n",
    "    elif best_model==\"SES_model\":\n",
    "        return SES_model_predict(test,train,CPM)"
   ]
  },
  {
   "cell_type": "code",
   "execution_count": null,
   "metadata": {
    "collapsed": true
   },
   "outputs": [],
   "source": []
  },
  {
   "cell_type": "code",
   "execution_count": null,
   "metadata": {
    "collapsed": true
   },
   "outputs": [],
   "source": []
  },
  {
   "cell_type": "markdown",
   "metadata": {
    "collapsed": true
   },
   "source": [
    "# Second Step\n",
    "\n",
    "#### As there is limited valid data points of some sites, my detection system is only useful for following sites (site_w_records), will improve in the future.\n",
    "\n",
    "#### The input format is CPM_detect(sitename,date(follow the format),real CPM)\n",
    "#### eg. CPM_detect(\"eliteprospects\",\"2017-05-15\",0.334966059603641)\n",
    "\n",
    "##### There is some warning on the output but it will not influence the result, thank you for your understanding"
   ]
  },
  {
   "cell_type": "code",
   "execution_count": 105,
   "metadata": {
    "collapsed": true
   },
   "outputs": [],
   "source": [
    "# find those site with lot of records\n",
    "site_w_records=dr[dr[\"revenue\"]>0].groupby([\"site\"],as_index=False)[\"date\"].count().sort_values(\n",
    "    by=['date'],ascending=False).head(126)[\"site\"]"
   ]
  },
  {
   "cell_type": "code",
   "execution_count": 108,
   "metadata": {},
   "outputs": [
    {
     "data": {
      "text/plain": [
       "['therepublikofmancunia',\n",
       " 'wearewearside',\n",
       " 'totalbarca',\n",
       " 'hoosierhuddle',\n",
       " 'tennisguru',\n",
       " 'philliesnation',\n",
       " 'huskermax',\n",
       " 'lakersnation',\n",
       " 'videocelts',\n",
       " 'dodgerblue',\n",
       " 'sixpackspeak',\n",
       " 'sfexaminer',\n",
       " 'mynhltraderumors',\n",
       " 'hornsports',\n",
       " 'chicitysports',\n",
       " 'rabidhabs',\n",
       " 'dailythunder',\n",
       " 'ultimateknicks',\n",
       " 'journalstar',\n",
       " 'cardinalconnect',\n",
       " 'tigernet',\n",
       " 'cityweekly',\n",
       " 'destinytracker',\n",
       " 'trekmovie',\n",
       " 'starwarsnewsnet',\n",
       " 'arseblog',\n",
       " 'telegraphherald',\n",
       " 'catchronicles',\n",
       " 'welikela',\n",
       " 'slingshotesports',\n",
       " 'cornellsun',\n",
       " 'metschronicle',\n",
       " 'overwatchtracker',\n",
       " 'ndnation',\n",
       " 'comcastsportsnet',\n",
       " 'angelswin',\n",
       " 'autoweek',\n",
       " 'wowinterface',\n",
       " 'gopherhole',\n",
       " 'mobafire',\n",
       " 'dotafire',\n",
       " 'dotapicker',\n",
       " 'wrc',\n",
       " 'pittsburghsportsnow',\n",
       " 'celticquicknews',\n",
       " 'lancasteronline',\n",
       " 'wsof',\n",
       " 'bluemoon-mcfc',\n",
       " 'thecelticblog',\n",
       " 'mcfcwatch',\n",
       " 'live4liverpool',\n",
       " 'foreverwestham',\n",
       " 'gunnersphere',\n",
       " 'chicagoreader',\n",
       " 'arsenal-mania',\n",
       " 'nothingbutnewcastle',\n",
       " 'shepherdexpress',\n",
       " 'russellstreet',\n",
       " 'rousingthekop',\n",
       " 'packinsider',\n",
       " 'heroesfire',\n",
       " 'sportsdaily',\n",
       " 'allhabs',\n",
       " 'claretandhugh',\n",
       " 'tidefans',\n",
       " 'opendota',\n",
       " 'cyclonefanatic',\n",
       " 'buffalofambase',\n",
       " 'topix',\n",
       " 'elophant',\n",
       " 'autoblog',\n",
       " 'mynfldraft',\n",
       " 'tf2outpost',\n",
       " 'pokejungle',\n",
       " 'captainamericalibrary',\n",
       " '49erswebzone',\n",
       " 'projectspurs',\n",
       " 'santafenewmexican',\n",
       " 'snackmedia-bluemoon-mcfc',\n",
       " 'postdispatch',\n",
       " 'snackmedia-arsenal-mania',\n",
       " 'zam-wowhead',\n",
       " 'snackmedia-celticquicknews',\n",
       " 'snackmedia-claretandhugh',\n",
       " 'snackmedia-foreverwestham',\n",
       " 'snackmedia-live4liverpool',\n",
       " 'snackmedia-mcfcwatch',\n",
       " 'snackmedia-readceltic',\n",
       " 'snackmedia-thecelticblog',\n",
       " 'tempostorm',\n",
       " 'packsinsider',\n",
       " 'snackmedia-readarsenal',\n",
       " 'presto-fswbucs',\n",
       " 'snackmedia-readnorwich',\n",
       " 'snackmedia-readwesham',\n",
       " 'snackmedia-readwestbrom',\n",
       " 'russellstreetreport',\n",
       " 'snackmedia-rousingthekop',\n",
       " 'pittsburghsportsnow2',\n",
       " 'esoui',\n",
       " 'siouxcityjournal',\n",
       " 'scout',\n",
       " 'readceltic',\n",
       " 'justinbiebernl',\n",
       " 'sfnewmexican',\n",
       " 'readwestbrom',\n",
       " 'readarsenal',\n",
       " 'readnorwich',\n",
       " 'readwestham',\n",
       " 'snackmedia-gunnersphere',\n",
       " 'birdgang',\n",
       " 'snackmedia-nothingbutnewcastle',\n",
       " 'raisethejollyroger',\n",
       " 'csgoutpost',\n",
       " 'snackmedia-theboyhotspurs',\n",
       " 'raiders411',\n",
       " 'dotaoutpost',\n",
       " 'steelerswire',\n",
       " 'silverandblueblood',\n",
       " 'wrestlinginc',\n",
       " 'zam-tf2outpost',\n",
       " 'lee-jg-tc',\n",
       " 'dallasnews',\n",
       " 'gamurs-csgosquad',\n",
       " 'snackmedia-spurs-web',\n",
       " 'zam-hearthhead']"
      ]
     },
     "execution_count": 108,
     "metadata": {},
     "output_type": "execute_result"
    }
   ],
   "source": [
    "list(site_w_records)"
   ]
  },
  {
   "cell_type": "code",
   "execution_count": 110,
   "metadata": {},
   "outputs": [
    {
     "name": "stderr",
     "output_type": "stream",
     "text": [
      "/Users/yufeiwang/anaconda3/lib/python3.6/site-packages/ipykernel_launcher.py:8: UserWarning: Pandas doesn't allow columns to be created via a new attribute name - see https://pandas.pydata.org/pandas-docs/stable/indexing.html#attribute-access\n",
      "  \n",
      "/Users/yufeiwang/anaconda3/lib/python3.6/site-packages/ipykernel_launcher.py:11: UserWarning: Pandas doesn't allow columns to be created via a new attribute name - see https://pandas.pydata.org/pandas-docs/stable/indexing.html#attribute-access\n",
      "  # This is added back by InteractiveShellApp.init_path()\n"
     ]
    },
    {
     "name": "stdout",
     "output_type": "stream",
     "text": [
      "RMSE of Naive Model:  0.4058250505388466\n",
      "RMSE of MA Model:  0.4552571483741858\n",
      "RMSE of Holt-Winters Model:  0.43078041968157915\n"
     ]
    },
    {
     "name": "stderr",
     "output_type": "stream",
     "text": [
      "/Users/yufeiwang/anaconda3/lib/python3.6/site-packages/statsmodels/tsa/base/tsa_model.py:171: ValueWarning: No frequency information was provided, so inferred frequency D will be used.\n",
      "  % freq, ValueWarning)\n"
     ]
    },
    {
     "name": "stdout",
     "output_type": "stream",
     "text": [
      "RMSE of Arima Model:  0.6968734720548703\n",
      "RMSE of Simple Exponential Smoothing Model:  0.4058250505388466\n",
      "The Best Model is  Naive_model  with  0.4058250505388466  RMSE\n"
     ]
    },
    {
     "name": "stderr",
     "output_type": "stream",
     "text": [
      "/Users/yufeiwang/anaconda3/lib/python3.6/site-packages/ipykernel_launcher.py:34: UserWarning: Pandas doesn't allow columns to be created via a new attribute name - see https://pandas.pydata.org/pandas-docs/stable/indexing.html#attribute-access\n",
      "/Users/yufeiwang/anaconda3/lib/python3.6/site-packages/ipykernel_launcher.py:37: UserWarning: Pandas doesn't allow columns to be created via a new attribute name - see https://pandas.pydata.org/pandas-docs/stable/indexing.html#attribute-access\n"
     ]
    },
    {
     "data": {
      "text/plain": [
       "'Prediction is 1.1080685231173382, real data is 0.334966059603641, ABNORMAL'"
      ]
     },
     "execution_count": 110,
     "metadata": {},
     "output_type": "execute_result"
    }
   ],
   "source": [
    "CPM_detect(\"chicitysports\",\"2017-05-15\",0.334966059603641)"
   ]
  },
  {
   "cell_type": "code",
   "execution_count": null,
   "metadata": {
    "collapsed": true
   },
   "outputs": [],
   "source": []
  },
  {
   "cell_type": "code",
   "execution_count": null,
   "metadata": {
    "collapsed": true
   },
   "outputs": [],
   "source": []
  },
  {
   "cell_type": "code",
   "execution_count": null,
   "metadata": {
    "collapsed": true
   },
   "outputs": [],
   "source": []
  },
  {
   "cell_type": "code",
   "execution_count": null,
   "metadata": {
    "collapsed": true
   },
   "outputs": [],
   "source": []
  },
  {
   "cell_type": "code",
   "execution_count": null,
   "metadata": {
    "collapsed": true
   },
   "outputs": [],
   "source": []
  },
  {
   "cell_type": "code",
   "execution_count": null,
   "metadata": {
    "collapsed": true
   },
   "outputs": [],
   "source": []
  },
  {
   "cell_type": "code",
   "execution_count": null,
   "metadata": {
    "collapsed": true
   },
   "outputs": [],
   "source": []
  },
  {
   "cell_type": "code",
   "execution_count": null,
   "metadata": {
    "collapsed": true
   },
   "outputs": [],
   "source": [
    "\n",
    "\n"
   ]
  },
  {
   "cell_type": "code",
   "execution_count": null,
   "metadata": {
    "collapsed": true
   },
   "outputs": [],
   "source": []
  },
  {
   "cell_type": "code",
   "execution_count": null,
   "metadata": {
    "collapsed": true
   },
   "outputs": [],
   "source": []
  },
  {
   "cell_type": "code",
   "execution_count": null,
   "metadata": {
    "collapsed": true
   },
   "outputs": [],
   "source": []
  },
  {
   "cell_type": "code",
   "execution_count": null,
   "metadata": {
    "collapsed": true
   },
   "outputs": [],
   "source": []
  },
  {
   "cell_type": "code",
   "execution_count": null,
   "metadata": {
    "collapsed": true
   },
   "outputs": [],
   "source": []
  },
  {
   "cell_type": "code",
   "execution_count": null,
   "metadata": {
    "collapsed": true
   },
   "outputs": [],
   "source": []
  },
  {
   "cell_type": "code",
   "execution_count": null,
   "metadata": {
    "collapsed": true
   },
   "outputs": [],
   "source": []
  },
  {
   "cell_type": "code",
   "execution_count": null,
   "metadata": {
    "collapsed": true
   },
   "outputs": [],
   "source": []
  }
 ],
 "metadata": {
  "kernelspec": {
   "display_name": "Python 3",
   "language": "python",
   "name": "python3"
  },
  "language_info": {
   "codemirror_mode": {
    "name": "ipython",
    "version": 3
   },
   "file_extension": ".py",
   "mimetype": "text/x-python",
   "name": "python",
   "nbconvert_exporter": "python",
   "pygments_lexer": "ipython3",
   "version": "3.6.8"
  }
 },
 "nbformat": 4,
 "nbformat_minor": 2
}
